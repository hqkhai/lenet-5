{
  "nbformat": 4,
  "nbformat_minor": 0,
  "metadata": {
    "colab": {
      "provenance": [],
      "mount_file_id": "1rQLmWBqTY99XQ87eufyPVZuJOUA6l1HQ",
      "authorship_tag": "ABX9TyOJ/1Z8iZ9144RTQ8neIF6U",
      "include_colab_link": true
    },
    "kernelspec": {
      "name": "python3",
      "display_name": "Python 3"
    },
    "language_info": {
      "name": "python"
    }
  },
  "cells": [
    {
      "cell_type": "markdown",
      "metadata": {
        "id": "view-in-github",
        "colab_type": "text"
      },
      "source": [
        "<a href=\"https://colab.research.google.com/github/qhungbui7/lenet-5/blob/main/lenet_5_nb.ipynb\" target=\"_parent\"><img src=\"https://colab.research.google.com/assets/colab-badge.svg\" alt=\"Open In Colab\"/></a>"
      ]
    },
    {
      "cell_type": "code",
      "source": [
        "from google.colab import drive\n",
        "drive.mount('/content/drive', force_remount=True)"
      ],
      "metadata": {
        "colab": {
          "base_uri": "https://localhost:8080/"
        },
        "id": "VieH6ht6oFdv",
        "outputId": "2e0c8da8-f933-4fb3-fa81-53134af4e37e"
      },
      "execution_count": 1,
      "outputs": [
        {
          "output_type": "stream",
          "name": "stdout",
          "text": [
            "Mounted at /content/drive\n"
          ]
        }
      ]
    },
    {
      "cell_type": "code",
      "source": [
        "%cd /content/"
      ],
      "metadata": {
        "colab": {
          "base_uri": "https://localhost:8080/"
        },
        "id": "E-vZIKr1Tipv",
        "outputId": "9af16c14-4927-4eee-b9b7-d07507d69695"
      },
      "execution_count": 2,
      "outputs": [
        {
          "output_type": "stream",
          "name": "stdout",
          "text": [
            "/content\n"
          ]
        }
      ]
    },
    {
      "cell_type": "code",
      "source": [
        "!rm -r /content/lenet-5"
      ],
      "metadata": {
        "id": "wwB9YzOnTZpt"
      },
      "execution_count": 3,
      "outputs": []
    },
    {
      "cell_type": "code",
      "source": [
        "!git clone https://github.com/qhungbui7/lenet-5.git"
      ],
      "metadata": {
        "colab": {
          "base_uri": "https://localhost:8080/"
        },
        "id": "hWoSIx2KkkT6",
        "outputId": "1597dec8-cb25-46a5-d828-2b73ddd7f6f3"
      },
      "execution_count": 4,
      "outputs": [
        {
          "output_type": "stream",
          "name": "stdout",
          "text": [
            "Cloning into 'lenet-5'...\n",
            "remote: Enumerating objects: 1812, done.\u001b[K\n",
            "remote: Counting objects: 100% (1812/1812), done.\u001b[K\n",
            "remote: Compressing objects: 100% (1449/1449), done.\u001b[K\n",
            "remote: Total 1812 (delta 320), reused 1785 (delta 307), pack-reused 0\u001b[K\n",
            "Receiving objects: 100% (1812/1812), 2.43 MiB | 5.16 MiB/s, done.\n",
            "Resolving deltas: 100% (320/320), done.\n"
          ]
        }
      ]
    },
    {
      "cell_type": "code",
      "source": [
        "%%writefile /content/lenet-5/src/mnist.cc\n",
        "#include \"./mnist.h\"\n",
        "\n",
        "int ReverseInt(int i) {\n",
        "  unsigned char ch1, ch2, ch3, ch4;\n",
        "  ch1 = i & 255;\n",
        "  ch2 = (i >> 8) & 255;\n",
        "  ch3 = (i >> 16) & 255;\n",
        "  ch4 = (i >> 24) & 255;\n",
        "  return ((int)ch1 << 24) + ((int)ch2 << 16) + ((int)ch3 << 8) + ch4;\n",
        "}\n",
        "\n",
        "void MNIST::read_mnist_data(std::string filename, Matrix& data) {\n",
        "  std::ifstream file(filename, std::ios::binary);\n",
        "  if (file.is_open()) {\n",
        "    int magic_number = 0;\n",
        "    int number_of_images = 0;\n",
        "    int n_rows = 0;\n",
        "    int n_cols = 0;\n",
        "    unsigned char label;\n",
        "    file.read((char*)&magic_number, sizeof(magic_number));\n",
        "    file.read((char*)&number_of_images, sizeof(number_of_images));\n",
        "    file.read((char*)&n_rows, sizeof(n_rows));\n",
        "    file.read((char*)&n_cols, sizeof(n_cols));\n",
        "    magic_number = ReverseInt(magic_number);\n",
        "    number_of_images = ReverseInt(number_of_images);\n",
        "    n_rows = ReverseInt(n_rows);\n",
        "    n_cols = ReverseInt(n_cols);\n",
        "\n",
        "    data.resize(n_cols * n_rows, number_of_images);\n",
        "    for (int i = 0; i < number_of_images; i++) {\n",
        "      for (int r = 0; r < n_rows; r++) {\n",
        "        for (int c = 0; c < n_cols; c++) {\n",
        "          unsigned char image = 0;\n",
        "          file.read((char*)&image, sizeof(image));\n",
        "          data(r * n_cols + c, i) = (float)image;\n",
        "        }\n",
        "      }\n",
        "    }\n",
        "  }\n",
        "}\n",
        "\n",
        "void MNIST::read_mnist_label(std::string filename, Matrix& labels) {\n",
        "  std::ifstream file(filename, std::ios::binary);\n",
        "  if (file.is_open()) {\n",
        "    int magic_number = 0;\n",
        "    int number_of_images = 0;\n",
        "    file.read((char*)&magic_number, sizeof(magic_number));\n",
        "    file.read((char*)&number_of_images, sizeof(number_of_images));\n",
        "    magic_number = ReverseInt(magic_number);\n",
        "    number_of_images = ReverseInt(number_of_images);\n",
        "\n",
        "    labels.resize(1, number_of_images);\n",
        "    for (int i = 0; i < number_of_images; i++) {\n",
        "      unsigned char label = 0;\n",
        "      file.read((char*)&label, sizeof(label));\n",
        "      labels(0, i) = (float)label;\n",
        "    }\n",
        "  }\n",
        "}\n",
        "\n",
        "void MNIST::read() {\n",
        "  read_mnist_data(data_dir + \"train-images.idx3-ubyte\", train_data);\n",
        "  read_mnist_data(data_dir + \"t10k-images.idx3-ubyte\", test_data);\n",
        "  read_mnist_label(data_dir + \"train-labels.idx1-ubyte\", train_labels);\n",
        "  read_mnist_label(data_dir + \"t10k-labels.idx1-ubyte\", test_labels);\n",
        "}\n"
      ],
      "metadata": {
        "colab": {
          "base_uri": "https://localhost:8080/"
        },
        "id": "fDcHoNtjgPXO",
        "outputId": "a965459f-19bc-46f9-9278-ef8d0742bf2b"
      },
      "execution_count": 5,
      "outputs": [
        {
          "output_type": "stream",
          "name": "stdout",
          "text": [
            "Overwriting /content/lenet-5/src/mnist.cc\n"
          ]
        }
      ]
    },
    {
      "cell_type": "code",
      "source": [
        "!mkdir ./lenet-5/data/\n",
        "!mkdir ./lenet-5/data/mnist"
      ],
      "metadata": {
        "id": "ekaZavp9mLS1"
      },
      "execution_count": 6,
      "outputs": []
    },
    {
      "cell_type": "code",
      "source": [
        "!cp /content/drive/MyDrive/mnist/mnist.zip /content/mnist.zip"
      ],
      "metadata": {
        "id": "qxe4kqSWoIue"
      },
      "execution_count": 7,
      "outputs": []
    },
    {
      "cell_type": "code",
      "source": [
        "!unzip mnist.zip -d ./lenet-5/data/mnist"
      ],
      "metadata": {
        "colab": {
          "base_uri": "https://localhost:8080/"
        },
        "id": "SpBUlGJboOew",
        "outputId": "f02e5ce8-eaac-4c3f-af4b-b746cff4930e"
      },
      "execution_count": 8,
      "outputs": [
        {
          "output_type": "stream",
          "name": "stdout",
          "text": [
            "Archive:  mnist.zip\n",
            "  inflating: ./lenet-5/data/mnist/t10k-images-idx3-ubyte/t10k-images-idx3-ubyte  \n",
            "  inflating: ./lenet-5/data/mnist/t10k-images.idx3-ubyte  \n",
            "  inflating: ./lenet-5/data/mnist/t10k-labels-idx1-ubyte/t10k-labels-idx1-ubyte  \n",
            "  inflating: ./lenet-5/data/mnist/t10k-labels.idx1-ubyte  \n",
            "  inflating: ./lenet-5/data/mnist/train-images-idx3-ubyte/train-images-idx3-ubyte  \n",
            "  inflating: ./lenet-5/data/mnist/train-images.idx3-ubyte  \n",
            "  inflating: ./lenet-5/data/mnist/train-labels-idx1-ubyte/train-labels-idx1-ubyte  \n",
            "  inflating: ./lenet-5/data/mnist/train-labels.idx1-ubyte  \n"
          ]
        }
      ]
    },
    {
      "cell_type": "code",
      "source": [
        "%cd ./lenet-5"
      ],
      "metadata": {
        "id": "TLeCBPCikIid",
        "colab": {
          "base_uri": "https://localhost:8080/"
        },
        "outputId": "f4ef70c1-ac17-49b9-b837-670905efc843"
      },
      "execution_count": 9,
      "outputs": [
        {
          "output_type": "stream",
          "name": "stdout",
          "text": [
            "/content/lenet-5\n"
          ]
        }
      ]
    },
    {
      "cell_type": "code",
      "source": [
        "!ls ./data"
      ],
      "metadata": {
        "colab": {
          "base_uri": "https://localhost:8080/"
        },
        "id": "Q-3P_QmropOR",
        "outputId": "46429a58-d637-47db-acd5-7b6e3445d1b8"
      },
      "execution_count": 10,
      "outputs": [
        {
          "output_type": "stream",
          "name": "stdout",
          "text": [
            "mnist\n"
          ]
        }
      ]
    },
    {
      "cell_type": "code",
      "source": [
        "%cd /content/lenet-5"
      ],
      "metadata": {
        "colab": {
          "base_uri": "https://localhost:8080/"
        },
        "id": "tGJq8p0eMdR4",
        "outputId": "6a864454-b9a5-4130-ec3f-ad5add634b80"
      },
      "execution_count": 11,
      "outputs": [
        {
          "output_type": "stream",
          "name": "stdout",
          "text": [
            "/content/lenet-5\n"
          ]
        }
      ]
    },
    {
      "cell_type": "code",
      "source": [
        "!mkdir /content/lenet-5/build\n",
        "%cd /content/lenet-5/build\n",
        "!cmake /content/lenet-5/\n",
        "!make"
      ],
      "metadata": {
        "colab": {
          "base_uri": "https://localhost:8080/"
        },
        "id": "gyzckXW-pBte",
        "outputId": "c0a798f9-1437-4ec0-8fe3-5da0182ea97a"
      },
      "execution_count": 12,
      "outputs": [
        {
          "output_type": "stream",
          "name": "stdout",
          "text": [
            "/content/lenet-5/build\n",
            "\u001b[0mCMake Deprecation Warning at CMakeLists.txt:1 (cmake_minimum_required):\n",
            "  Compatibility with CMake < 3.5 will be removed from a future version of\n",
            "  CMake.\n",
            "\n",
            "  Update the VERSION argument <min> value or use a ...<max> suffix to tell\n",
            "  CMake that the project does not need compatibility with older versions.\n",
            "\n",
            "\u001b[0m\n",
            "-- The C compiler identification is GNU 11.4.0\n",
            "-- The CXX compiler identification is GNU 11.4.0\n",
            "-- Detecting C compiler ABI info\n",
            "-- Detecting C compiler ABI info - done\n",
            "-- Check for working C compiler: /usr/bin/cc - skipped\n",
            "-- Detecting C compile features\n",
            "-- Detecting C compile features - done\n",
            "-- Detecting CXX compiler ABI info\n",
            "-- Detecting CXX compiler ABI info - done\n",
            "-- Check for working CXX compiler: /usr/bin/c++ - skipped\n",
            "-- Detecting CXX compile features\n",
            "-- Detecting CXX compile features - done\n",
            "-- Configuring done (0.6s)\n",
            "-- Generating done (0.0s)\n",
            "-- Build files have been written to: /content/lenet-5/build\n",
            "[  6%] \u001b[32mBuilding CXX object src/CMakeFiles/MiniDNNLib.dir/mnist.cc.o\u001b[0m\n",
            "[ 13%] \u001b[32mBuilding CXX object src/CMakeFiles/MiniDNNLib.dir/network.cc.o\u001b[0m\n",
            "[ 20%] \u001b[32mBuilding CXX object src/CMakeFiles/MiniDNNLib.dir/layer/ave_pooling.cc.o\u001b[0m\n",
            "[ 26%] \u001b[32mBuilding CXX object src/CMakeFiles/MiniDNNLib.dir/layer/conv.cc.o\u001b[0m\n",
            "[ 33%] \u001b[32mBuilding CXX object src/CMakeFiles/MiniDNNLib.dir/layer/fully_connected.cc.o\u001b[0m\n",
            "[ 40%] \u001b[32mBuilding CXX object src/CMakeFiles/MiniDNNLib.dir/layer/max_pooling.cc.o\u001b[0m\n",
            "[ 46%] \u001b[32mBuilding CXX object src/CMakeFiles/MiniDNNLib.dir/layer/relu.cc.o\u001b[0m\n",
            "[ 53%] \u001b[32mBuilding CXX object src/CMakeFiles/MiniDNNLib.dir/layer/sigmoid.cc.o\u001b[0m\n",
            "[ 60%] \u001b[32mBuilding CXX object src/CMakeFiles/MiniDNNLib.dir/layer/softmax.cc.o\u001b[0m\n",
            "[ 66%] \u001b[32mBuilding CXX object src/CMakeFiles/MiniDNNLib.dir/loss/cross_entropy_loss.cc.o\u001b[0m\n",
            "[ 73%] \u001b[32mBuilding CXX object src/CMakeFiles/MiniDNNLib.dir/loss/mse_loss.cc.o\u001b[0m\n",
            "[ 80%] \u001b[32mBuilding CXX object src/CMakeFiles/MiniDNNLib.dir/optimizer/sgd.cc.o\u001b[0m\n",
            "[ 86%] \u001b[32m\u001b[1mLinking CXX static library libMiniDNNLib.a\u001b[0m\n",
            "[ 86%] Built target MiniDNNLib\n",
            "[ 93%] \u001b[32mBuilding CXX object CMakeFiles/demo.dir/demo.cc.o\u001b[0m\n",
            "[100%] \u001b[32m\u001b[1mLinking CXX executable demo\u001b[0m\n",
            "[100%] Built target demo\n"
          ]
        }
      ]
    },
    {
      "cell_type": "code",
      "source": [
        "!ls"
      ],
      "metadata": {
        "colab": {
          "base_uri": "https://localhost:8080/"
        },
        "id": "kxaEJL2SO8pt",
        "outputId": "ec829c6a-a091-4538-f950-f93a48b4324f"
      },
      "execution_count": 13,
      "outputs": [
        {
          "output_type": "stream",
          "name": "stdout",
          "text": [
            "CMakeCache.txt\tCMakeFiles  cmake_install.cmake  demo  Makefile  src\n"
          ]
        }
      ]
    },
    {
      "cell_type": "code",
      "source": [
        "!./demo"
      ],
      "metadata": {
        "colab": {
          "base_uri": "https://localhost:8080/"
        },
        "id": "LNuffvIXvz4r",
        "outputId": "f89fba44-ecb8-43df-f330-d9a09a21c12c"
      },
      "execution_count": 14,
      "outputs": [
        {
          "output_type": "stream",
          "name": "stdout",
          "text": [
            "mnist train number: 60000\n",
            "mnist test number: 10000\n",
            "0-th batch, loss: 2.30217\n",
            "50-th batch, loss: 2.3031\n",
            "100-th batch, loss: 2.3004\n",
            "150-th batch, loss: 2.30136\n",
            "200-th batch, loss: 2.29618\n",
            "250-th batch, loss: 2.2829\n",
            "300-th batch, loss: 1.90509\n",
            "350-th batch, loss: 0.603127\n",
            "400-th batch, loss: 0.335416\n",
            "450-th batch, loss: 0.23443\n",
            "\n",
            "1-th epoch, test acc: 0.9146\n",
            "\n",
            "0-th batch, loss: 0.354542\n",
            "50-th batch, loss: 0.228444\n",
            "100-th batch, loss: 0.131954\n",
            "150-th batch, loss: 0.110524\n",
            "200-th batch, loss: 0.143763\n",
            "250-th batch, loss: 0.263087\n",
            "300-th batch, loss: 0.105119\n",
            "350-th batch, loss: 0.120148\n",
            "400-th batch, loss: 0.123074\n",
            "450-th batch, loss: 0.114843\n",
            "\n",
            "2-th epoch, test acc: 0.9634\n",
            "\n",
            "0-th batch, loss: 0.0962432\n",
            "50-th batch, loss: 0.0980601\n",
            "100-th batch, loss: 0.127678\n",
            "150-th batch, loss: 0.13527\n",
            "200-th batch, loss: 0.0956395\n",
            "250-th batch, loss: 0.076831\n",
            "300-th batch, loss: 0.116416\n",
            "350-th batch, loss: 0.115276\n",
            "400-th batch, loss: 0.0723094\n",
            "450-th batch, loss: 0.0559415\n",
            "\n",
            "3-th epoch, test acc: 0.9625\n",
            "\n",
            "0-th batch, loss: 0.106011\n",
            "50-th batch, loss: 0.0710517\n",
            "100-th batch, loss: 0.095206\n",
            "150-th batch, loss: 0.0720363\n",
            "200-th batch, loss: 0.0632274\n",
            "250-th batch, loss: 0.0768391\n",
            "300-th batch, loss: 0.139483\n",
            "350-th batch, loss: 0.0733548\n",
            "400-th batch, loss: 0.116364\n",
            "450-th batch, loss: 0.0469178\n",
            "\n",
            "4-th epoch, test acc: 0.9772\n",
            "\n",
            "0-th batch, loss: 0.089608\n",
            "50-th batch, loss: 0.0639032\n",
            "100-th batch, loss: 0.0958363\n",
            "150-th batch, loss: 0.123613\n",
            "200-th batch, loss: 0.0194552\n",
            "250-th batch, loss: 0.0532817\n",
            "300-th batch, loss: 0.0485539\n",
            "350-th batch, loss: 0.102219\n",
            "400-th batch, loss: 0.0617658\n",
            "450-th batch, loss: 0.049831\n",
            "\n",
            "5-th epoch, test acc: 0.977\n",
            "\n"
          ]
        }
      ]
    },
    {
      "cell_type": "code",
      "execution_count": 15,
      "metadata": {
        "id": "pXKXyfFVj5Au"
      },
      "outputs": [],
      "source": [
        "# !nvcc HW2_P1.cu -o HW2_P1"
      ]
    },
    {
      "cell_type": "code",
      "source": [
        "# !./HW2_P1"
      ],
      "metadata": {
        "id": "Sv8vpgaokEDe"
      },
      "execution_count": 16,
      "outputs": []
    },
    {
      "cell_type": "code",
      "source": [
        "# ! nvprof ./HW2_P1"
      ],
      "metadata": {
        "id": "nTsnCKN6kR6_"
      },
      "execution_count": 17,
      "outputs": []
    }
  ]
}