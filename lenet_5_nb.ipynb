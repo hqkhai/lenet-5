{
  "nbformat": 4,
  "nbformat_minor": 0,
  "metadata": {
    "colab": {
      "provenance": [],
      "mount_file_id": "1rQLmWBqTY99XQ87eufyPVZuJOUA6l1HQ",
      "authorship_tag": "ABX9TyMxZBzKKBRgNQbDM++VL1B5",
      "include_colab_link": true
    },
    "kernelspec": {
      "name": "python3",
      "display_name": "Python 3"
    },
    "language_info": {
      "name": "python"
    }
  },
  "cells": [
    {
      "cell_type": "markdown",
      "metadata": {
        "id": "view-in-github",
        "colab_type": "text"
      },
      "source": [
        "<a href=\"https://colab.research.google.com/github/qhungbui7/lenet-5/blob/main/lenet_5_nb.ipynb\" target=\"_parent\"><img src=\"https://colab.research.google.com/assets/colab-badge.svg\" alt=\"Open In Colab\"/></a>"
      ]
    },
    {
      "cell_type": "markdown",
      "source": [
        "## Group 22\n",
        "\n",
        "\n",
        "\n",
        "| Student ID  | Full name  |\n",
        "|---|---|\n",
        "| 20127508  |  Bùi Quốc Hùng |\n",
        "|  20127521 |  Hồ Quang Khải |\n",
        "|  20127011 |  Lê Tấn Đạt  |\n",
        "\n",
        "## Work assignment\n",
        "\n",
        "| Work | Assignee |\n",
        "|---|---|\n",
        "| Planning + Review + Environment Prepatation for MNIST + Report |  Bùi Quốc Hùng |\n",
        "| Video | Hồ Quang Khải + Lê Tấn Đạt |\n",
        "| Prepatation for Fashion MNIST |  Hồ Quang Khải |\n",
        "| Implement a basic GPU Convolution kernel |  Hồ Quang Khải |\n",
        "| Tiled shared memory convolution |Lê Tấn Đạt|\n",
        "| Shared memory matrix multiplication and input matrix unrolling |Lê Tấn Đạt|\n",
        "| Kernel fusion for unrolling and matrix-multiplication|Bùi Quốc Hùng|\n",
        "| Weight matrix (kernel values) in constant memory |Lê Tấn Đạt|\n",
        "| Tuning with restrict and loop unrolling|Bùi Quốc Hùng|\n",
        "| Sweeping various parameters to find best values (block sizes, amount of thread coarsening) |Lê Tấn Đạt|\n",
        "| Multiple kernel implementations for different layer sizes|Hồ Quang Khải|\n",
        "| Input channel reduction: tree|Hồ Quang Khải|\n",
        "| Input channel reduction: atomics |Bùi Quốc Hùng|\n",
        "| Fixed point (FP16) arithmetic |Bùi Quốc Hùng|\n",
        "| Using Streams to overlap computation with data transfer|Bùi Quốc Hùng|\n",
        "| An advanced matrix multiplication algorithm |Hồ Quang Khải|\n",
        "\n",
        "\n"
      ],
      "metadata": {
        "id": "5qSgnewYFm2P"
      }
    },
    {
      "cell_type": "markdown",
      "source": [
        "## How to run\n",
        "- We recommend this method: Clone from our Github. The source code from this submission is identical to the one on our Github.\n",
        "- About the data: https://drive.google.com/file/d/1KXvg7stExKuJvjlr-ScO4XQyi_iULIga/view?usp=drive_link (from https://www.kaggle.com/datasets/hojjatk/mnist-dataset)\n",
        "- Where to put the data: Please create a folder, name it \"MNIST\" in Google Drive: My Drive -> MNIST"
      ],
      "metadata": {
        "id": "xj87vPBcF5PJ"
      }
    },
    {
      "cell_type": "code",
      "source": [
        "from google.colab import drive\n",
        "drive.mount('/content/drive', force_remount=True)"
      ],
      "metadata": {
        "colab": {
          "base_uri": "https://localhost:8080/"
        },
        "id": "VieH6ht6oFdv",
        "outputId": "3009ce75-f9f7-4c36-f440-94b57c590b8a"
      },
      "execution_count": 1,
      "outputs": [
        {
          "output_type": "stream",
          "name": "stdout",
          "text": [
            "Mounted at /content/drive\n"
          ]
        }
      ]
    },
    {
      "cell_type": "code",
      "source": [
        "%cd /content/"
      ],
      "metadata": {
        "colab": {
          "base_uri": "https://localhost:8080/"
        },
        "id": "E-vZIKr1Tipv",
        "outputId": "0dae5131-370d-4b77-e562-5f342eb2d0fc"
      },
      "execution_count": 2,
      "outputs": [
        {
          "output_type": "stream",
          "name": "stdout",
          "text": [
            "/content\n"
          ]
        }
      ]
    },
    {
      "cell_type": "code",
      "source": [
        "!rm -r /content/lenet-5"
      ],
      "metadata": {
        "id": "wwB9YzOnTZpt"
      },
      "execution_count": 3,
      "outputs": []
    },
    {
      "cell_type": "markdown",
      "source": [
        "## NOTE\n",
        "- Rememeber to specify the development branch when cloning something\n",
        "- Change the execution file in CMakeLists.txt and execution below, for example I have written a new file called exp_newer_lenet.cc, then the execution file should be exp_newer_lenet\n",
        "- CMake project only allow one int main() function in the project, then write the main file in the ./lenet-5/main/ and then copy them into the project to execute cmake"
      ],
      "metadata": {
        "id": "C6VWuaWM3KST"
      }
    },
    {
      "cell_type": "code",
      "source": [
        "!git clone -b hung-dev  https://github.com/qhungbui7/lenet-5.git"
      ],
      "metadata": {
        "colab": {
          "base_uri": "https://localhost:8080/"
        },
        "id": "hWoSIx2KkkT6",
        "outputId": "4a96d78c-702d-48bb-f2ed-3d1f1551f578"
      },
      "execution_count": 4,
      "outputs": [
        {
          "output_type": "stream",
          "name": "stdout",
          "text": [
            "Cloning into 'lenet-5'...\n",
            "remote: Enumerating objects: 1830, done.\u001b[K\n",
            "remote: Counting objects:   0% (1/1830)\u001b[K\rremote: Counting objects:   1% (19/1830)\u001b[K\rremote: Counting objects:   2% (37/1830)\u001b[K\rremote: Counting objects:   3% (55/1830)\u001b[K\rremote: Counting objects:   4% (74/1830)\u001b[K\rremote: Counting objects:   5% (92/1830)\u001b[K\rremote: Counting objects:   6% (110/1830)\u001b[K\rremote: Counting objects:   7% (129/1830)\u001b[K\rremote: Counting objects:   8% (147/1830)\u001b[K\rremote: Counting objects:   9% (165/1830)\u001b[K\rremote: Counting objects:  10% (183/1830)\u001b[K\rremote: Counting objects:  11% (202/1830)\u001b[K\rremote: Counting objects:  12% (220/1830)\u001b[K\rremote: Counting objects:  13% (238/1830)\u001b[K\rremote: Counting objects:  14% (257/1830)\u001b[K\rremote: Counting objects:  15% (275/1830)\u001b[K\rremote: Counting objects:  16% (293/1830)\u001b[K\rremote: Counting objects:  17% (312/1830)\u001b[K\rremote: Counting objects:  18% (330/1830)\u001b[K\rremote: Counting objects:  19% (348/1830)\u001b[K\rremote: Counting objects:  20% (366/1830)\u001b[K\rremote: Counting objects:  21% (385/1830)\u001b[K\rremote: Counting objects:  22% (403/1830)\u001b[K\rremote: Counting objects:  23% (421/1830)\u001b[K\rremote: Counting objects:  24% (440/1830)\u001b[K\rremote: Counting objects:  25% (458/1830)\u001b[K\rremote: Counting objects:  26% (476/1830)\u001b[K\rremote: Counting objects:  27% (495/1830)\u001b[K\rremote: Counting objects:  28% (513/1830)\u001b[K\rremote: Counting objects:  29% (531/1830)\u001b[K\rremote: Counting objects:  30% (549/1830)\u001b[K\rremote: Counting objects:  31% (568/1830)\u001b[K\rremote: Counting objects:  32% (586/1830)\u001b[K\rremote: Counting objects:  33% (604/1830)\u001b[K\rremote: Counting objects:  34% (623/1830)\u001b[K\rremote: Counting objects:  35% (641/1830)\u001b[K\rremote: Counting objects:  36% (659/1830)\u001b[K\rremote: Counting objects:  37% (678/1830)\u001b[K\rremote: Counting objects:  38% (696/1830)\u001b[K\rremote: Counting objects:  39% (714/1830)\u001b[K\rremote: Counting objects:  40% (732/1830)\u001b[K\rremote: Counting objects:  41% (751/1830)\u001b[K\rremote: Counting objects:  42% (769/1830)\u001b[K\rremote: Counting objects:  43% (787/1830)\u001b[K\rremote: Counting objects:  44% (806/1830)\u001b[K\rremote: Counting objects:  45% (824/1830)\u001b[K\rremote: Counting objects:  46% (842/1830)\u001b[K\rremote: Counting objects:  47% (861/1830)\u001b[K\rremote: Counting objects:  48% (879/1830)\u001b[K\rremote: Counting objects:  49% (897/1830)\u001b[K\rremote: Counting objects:  50% (915/1830)\u001b[K\rremote: Counting objects:  51% (934/1830)\u001b[K\rremote: Counting objects:  52% (952/1830)\u001b[K\rremote: Counting objects:  53% (970/1830)\u001b[K\rremote: Counting objects:  54% (989/1830)\u001b[K\rremote: Counting objects:  55% (1007/1830)\u001b[K\rremote: Counting objects:  56% (1025/1830)\u001b[K\rremote: Counting objects:  57% (1044/1830)\u001b[K\rremote: Counting objects:  58% (1062/1830)\u001b[K\rremote: Counting objects:  59% (1080/1830)\u001b[K\rremote: Counting objects:  60% (1098/1830)\u001b[K\rremote: Counting objects:  61% (1117/1830)\u001b[K\rremote: Counting objects:  62% (1135/1830)\u001b[K\rremote: Counting objects:  63% (1153/1830)\u001b[K\rremote: Counting objects:  64% (1172/1830)\u001b[K\rremote: Counting objects:  65% (1190/1830)\u001b[K\rremote: Counting objects:  66% (1208/1830)\u001b[K\rremote: Counting objects:  67% (1227/1830)\u001b[K\rremote: Counting objects:  68% (1245/1830)\u001b[K\rremote: Counting objects:  69% (1263/1830)\u001b[K\rremote: Counting objects:  70% (1281/1830)\u001b[K\rremote: Counting objects:  71% (1300/1830)\u001b[K\rremote: Counting objects:  72% (1318/1830)\u001b[K\rremote: Counting objects:  73% (1336/1830)\u001b[K\rremote: Counting objects:  74% (1355/1830)\u001b[K\rremote: Counting objects:  75% (1373/1830)\u001b[K\rremote: Counting objects:  76% (1391/1830)\u001b[K\rremote: Counting objects:  77% (1410/1830)\u001b[K\rremote: Counting objects:  78% (1428/1830)\u001b[K\rremote: Counting objects:  79% (1446/1830)\u001b[K\rremote: Counting objects:  80% (1464/1830)\u001b[K\rremote: Counting objects:  81% (1483/1830)\u001b[K\rremote: Counting objects:  82% (1501/1830)\u001b[K\rremote: Counting objects:  83% (1519/1830)\u001b[K\rremote: Counting objects:  84% (1538/1830)\u001b[K\rremote: Counting objects:  85% (1556/1830)\u001b[K\rremote: Counting objects:  86% (1574/1830)\u001b[K\rremote: Counting objects:  87% (1593/1830)\u001b[K\rremote: Counting objects:  88% (1611/1830)\u001b[K\rremote: Counting objects:  89% (1629/1830)\u001b[K\rremote: Counting objects:  90% (1647/1830)\u001b[K\rremote: Counting objects:  91% (1666/1830)\u001b[K\rremote: Counting objects:  92% (1684/1830)\u001b[K\rremote: Counting objects:  93% (1702/1830)\u001b[K\rremote: Counting objects:  94% (1721/1830)\u001b[K\rremote: Counting objects:  95% (1739/1830)\u001b[K\rremote: Counting objects:  96% (1757/1830)\u001b[K\rremote: Counting objects:  97% (1776/1830)\u001b[K\rremote: Counting objects:  98% (1794/1830)\u001b[K\rremote: Counting objects:  99% (1812/1830)\u001b[K\rremote: Counting objects: 100% (1830/1830)\u001b[K\rremote: Counting objects: 100% (1830/1830), done.\u001b[K\n",
            "remote: Compressing objects: 100% (1462/1462), done.\u001b[K\n",
            "remote: Total 1830 (delta 329), reused 1797 (delta 312), pack-reused 0\u001b[K\n",
            "Receiving objects: 100% (1830/1830), 2.44 MiB | 16.98 MiB/s, done.\n",
            "Resolving deltas: 100% (329/329), done.\n"
          ]
        }
      ]
    },
    {
      "cell_type": "code",
      "source": [
        "%%writefile /content/lenet-5/main/exp_newer_lenet.cc\n",
        "\n",
        "/*\n",
        " * CNN demo for MNIST dataset\n",
        " * Author: Kai Han (kaihana@163.com)\n",
        " * Details in https://github.com/iamhankai/mini-dnn-cpp\n",
        " * Copyright 2018 Kai Han\n",
        " */\n",
        "#include <Eigen/Dense>\n",
        "#include <algorithm>\n",
        "#include <iostream>\n",
        "\n",
        "#include \"src/layer.h\"\n",
        "#include \"src/layer/conv.h\"\n",
        "#include \"src/layer/fully_connected.h\"\n",
        "#include \"src/layer/ave_pooling.h\"\n",
        "#include \"src/layer/max_pooling.h\"\n",
        "#include \"src/layer/relu.h\"\n",
        "#include \"src/layer/sigmoid.h\"\n",
        "#include \"src/layer/softmax.h\"\n",
        "#include \"src/loss.h\"\n",
        "#include \"src/loss/mse_loss.h\"\n",
        "#include \"src/loss/cross_entropy_loss.h\"\n",
        "#include \"src/mnist.h\"\n",
        "#include \"src/network.h\"\n",
        "#include \"src/optimizer.h\"\n",
        "#include \"src/optimizer/sgd.h\"\n",
        "\n",
        "\n",
        "int main() {\n",
        "  // data\n",
        "  MNIST dataset(\"../data/mnist/\");\n",
        "  dataset.read();\n",
        "  std::cout << \"Newer LeNet-5 implementation\" << std::endl;\n",
        "  int n_train = dataset.train_data.cols();\n",
        "  int dim_in = dataset.train_data.rows();\n",
        "  std::cout << \"mnist train number: \" << n_train << std::endl;\n",
        "  std::cout << \"mnist test number: \" << dataset.test_labels.cols() << std::endl;\n",
        "  // dnn\n",
        "\n",
        "  // Conv(int channel_in, int height_in, int width_in, int channel_out,\n",
        "  //      int height_kernel, int width_kernel, int stride = 1, int pad_w = 0,\n",
        "  //      int pad_h = 0)\n",
        "\n",
        "\n",
        "  // MaxPooling(int channel_in, int height_in, int width_in,\n",
        "  //            int height_pool, int width_pool, int stride = 1) :\n",
        "\n",
        "  // [(W−K+2P)/S]+1\n",
        "\n",
        "  Network lenet5;\n",
        "  Layer* conv1 = new Conv(1, 28, 28, 6, 5, 5, 1, 0, 0);\n",
        "  Layer* relu1 = new ReLU;\n",
        "  // (28 - 5 + 2 * 0) / 1 + 1 = 24\n",
        "\n",
        "  Layer* pool2 = new MaxPooling(6, 24, 24, 2, 2, 1);\n",
        "  // (24 - 2 + 2 * 0) / 1 + 1 = 23\n",
        "\n",
        "  Layer* conv3 = new Conv(6, 23, 23, 16, 5, 5, 1, 0, 0);\n",
        "  Layer* relu3 = new ReLU;\n",
        "  // (23 - 5 + 2 * 0) / 1 + 1 = 19\n",
        "\n",
        "  Layer* pool4 = new MaxPooling(16, 19, 19, 2, 2, 1);\n",
        "  // (23 - 2 + 2 * 0) / 1 + 1 = 18\n",
        "\n",
        "  Layer* fc6 = new FullyConnected(pool4->output_dim(), 120);\n",
        "  Layer* relu6 = new ReLU;\n",
        "  // 19 * 19 * 16 = 5776\n",
        "\n",
        "\n",
        "  Layer* fc7 = new FullyConnected(120, 84);\n",
        "  Layer* relu7 = new ReLU;\n",
        "\n",
        "  Layer* fc8 = new FullyConnected(84, 10);\n",
        "  Layer* softmax8 = new Softmax;\n",
        "\n",
        "  lenet5.add_layer(conv1);\n",
        "  lenet5.add_layer(relu1);\n",
        "\n",
        "  lenet5.add_layer(pool2);\n",
        "\n",
        "  lenet5.add_layer(conv3);\n",
        "  lenet5.add_layer(relu3);\n",
        "\n",
        "  lenet5.add_layer(pool4);\n",
        "\n",
        "  lenet5.add_layer(fc6);\n",
        "  lenet5.add_layer(relu6);\n",
        "\n",
        "  lenet5.add_layer(fc7);\n",
        "  lenet5.add_layer(relu7);\n",
        "\n",
        "  lenet5.add_layer(fc8);\n",
        "  lenet5.add_layer(softmax8);\n",
        "\n",
        "  // loss\n",
        "  Loss* loss = new CrossEntropy;\n",
        "  lenet5.add_loss(loss);\n",
        "  // train & test\n",
        "  SGD opt(0.001, 5e-4, 0.9, true);\n",
        "  // SGD opt(0.001);\n",
        "  const int n_epoch = 5;\n",
        "  const int batch_size = 128;\n",
        "  for (int epoch = 0; epoch < n_epoch; epoch ++) {\n",
        "    shuffle_data(dataset.train_data, dataset.train_labels);\n",
        "    for (int start_idx = 0; start_idx < n_train; start_idx += batch_size) {\n",
        "      int ith_batch = start_idx / batch_size;\n",
        "      Matrix x_batch = dataset.train_data.block(0, start_idx, dim_in,\n",
        "                                    std::min(batch_size, n_train - start_idx));\n",
        "      Matrix label_batch = dataset.train_labels.block(0, start_idx, 1,\n",
        "                                    std::min(batch_size, n_train - start_idx));\n",
        "      Matrix target_batch = one_hot_encode(label_batch, 10);\n",
        "      if (false && ith_batch % 10 == 1) {\n",
        "        std::cout << ith_batch << \"-th grad: \" << std::endl;\n",
        "        lenet5.check_gradient(x_batch, target_batch, 10);\n",
        "      }\n",
        "      lenet5.forward(x_batch);\n",
        "      lenet5.backward(x_batch, target_batch);\n",
        "      // display\n",
        "      if (ith_batch % 50 == 0) {\n",
        "        std::cout << ith_batch << \"-th batch, loss: \" << lenet5.get_loss()\n",
        "        << std::endl;\n",
        "      }\n",
        "      // optimize\n",
        "      lenet5.update(opt);\n",
        "    }\n",
        "    // test\n",
        "    lenet5.forward(dataset.test_data);\n",
        "    float acc = compute_accuracy(lenet5.output(), dataset.test_labels);\n",
        "    std::cout << std::endl;\n",
        "    std::cout << epoch + 1 << \"-th epoch, test acc: \" << acc << std::endl;\n",
        "    std::cout << std::endl;\n",
        "  }\n",
        "  return 0;\n",
        "}\n",
        "\n"
      ],
      "metadata": {
        "colab": {
          "base_uri": "https://localhost:8080/"
        },
        "id": "xiUwpE1C5FLE",
        "outputId": "9c05e547-0f02-4c90-e2a4-584ac8d0a32a"
      },
      "execution_count": 5,
      "outputs": [
        {
          "output_type": "stream",
          "name": "stdout",
          "text": [
            "Overwriting /content/lenet-5/main/exp_newer_lenet.cc\n"
          ]
        }
      ]
    },
    {
      "cell_type": "markdown",
      "source": [
        "Copy file from ./lenet-5/main/ to project folder"
      ],
      "metadata": {
        "id": "X6OOTHXi6uPC"
      }
    },
    {
      "cell_type": "code",
      "source": [
        "!cp ./lenet-5/main/exp_newer_lenet.cc ./lenet-5/exp_newer_lenet.cc"
      ],
      "metadata": {
        "id": "GEQgjGOY3VOE"
      },
      "execution_count": 6,
      "outputs": []
    },
    {
      "cell_type": "code",
      "source": [
        "%%writefile /content/lenet-5/CMakeLists.txt\n",
        "\n",
        "cmake_minimum_required (VERSION 3.0)\n",
        "project (myproject)\n",
        "include_directories (\"${PROJECT_SOURCE_DIR}/third_party/eigen\")\n",
        "# 查找当前目录下的所有源文件\n",
        "# 并将名称保存到 DIR_SRCS 变量\n",
        "aux_source_directory(. DIR_SRCS)\n",
        "# 添加 math 子目录\n",
        "add_subdirectory(src)\n",
        "# 指定生成目标\n",
        "add_executable(exp_newer_lenet ${DIR_SRCS})\n",
        "# 添加链接库\n",
        "target_link_libraries(exp_newer_lenet MiniDNNLib)"
      ],
      "metadata": {
        "id": "fI8x1Tesosv1",
        "colab": {
          "base_uri": "https://localhost:8080/"
        },
        "outputId": "4387a77e-407e-47ce-c573-0a511e90c122"
      },
      "execution_count": 7,
      "outputs": [
        {
          "output_type": "stream",
          "name": "stdout",
          "text": [
            "Overwriting /content/lenet-5/CMakeLists.txt\n"
          ]
        }
      ]
    },
    {
      "cell_type": "code",
      "source": [
        "!mkdir ./lenet-5/data/\n",
        "!mkdir ./lenet-5/data/mnist"
      ],
      "metadata": {
        "id": "ekaZavp9mLS1"
      },
      "execution_count": 8,
      "outputs": []
    },
    {
      "cell_type": "markdown",
      "source": [
        "Copy from Google Drive to this this folder, then unzip it into destination folder"
      ],
      "metadata": {
        "id": "RIOgqNkMOi3V"
      }
    },
    {
      "cell_type": "code",
      "source": [
        "!cp /content/drive/MyDrive/mnist/mnist.zip /content/mnist.zip"
      ],
      "metadata": {
        "id": "qxe4kqSWoIue"
      },
      "execution_count": 9,
      "outputs": []
    },
    {
      "cell_type": "code",
      "source": [
        "!unzip mnist.zip -d ./lenet-5/data/mnist"
      ],
      "metadata": {
        "colab": {
          "base_uri": "https://localhost:8080/"
        },
        "id": "SpBUlGJboOew",
        "outputId": "9a0235c2-7b0e-4526-bba0-36048caca2c3"
      },
      "execution_count": 10,
      "outputs": [
        {
          "output_type": "stream",
          "name": "stdout",
          "text": [
            "Archive:  mnist.zip\n",
            "  inflating: ./lenet-5/data/mnist/t10k-images-idx3-ubyte/t10k-images-idx3-ubyte  \n",
            "  inflating: ./lenet-5/data/mnist/t10k-images.idx3-ubyte  \n",
            "  inflating: ./lenet-5/data/mnist/t10k-labels-idx1-ubyte/t10k-labels-idx1-ubyte  \n",
            "  inflating: ./lenet-5/data/mnist/t10k-labels.idx1-ubyte  \n",
            "  inflating: ./lenet-5/data/mnist/train-images-idx3-ubyte/train-images-idx3-ubyte  \n",
            "  inflating: ./lenet-5/data/mnist/train-images.idx3-ubyte  \n",
            "  inflating: ./lenet-5/data/mnist/train-labels-idx1-ubyte/train-labels-idx1-ubyte  \n",
            "  inflating: ./lenet-5/data/mnist/train-labels.idx1-ubyte  \n"
          ]
        }
      ]
    },
    {
      "cell_type": "code",
      "source": [
        "%cd ./lenet-5"
      ],
      "metadata": {
        "id": "TLeCBPCikIid",
        "colab": {
          "base_uri": "https://localhost:8080/"
        },
        "outputId": "3503b8b1-1fd1-4029-add4-956bb9e6afe6"
      },
      "execution_count": 11,
      "outputs": [
        {
          "output_type": "stream",
          "name": "stdout",
          "text": [
            "/content/lenet-5\n"
          ]
        }
      ]
    },
    {
      "cell_type": "code",
      "source": [
        "!ls ./data"
      ],
      "metadata": {
        "colab": {
          "base_uri": "https://localhost:8080/"
        },
        "id": "Q-3P_QmropOR",
        "outputId": "23207ee0-d5ce-4a70-a6cb-c9d32450fe69"
      },
      "execution_count": 12,
      "outputs": [
        {
          "output_type": "stream",
          "name": "stdout",
          "text": [
            "mnist\n"
          ]
        }
      ]
    },
    {
      "cell_type": "code",
      "source": [
        "%cd /content/lenet-5"
      ],
      "metadata": {
        "colab": {
          "base_uri": "https://localhost:8080/"
        },
        "id": "tGJq8p0eMdR4",
        "outputId": "ee17f3c3-dd84-4725-8286-11bc1b0b26b0"
      },
      "execution_count": 13,
      "outputs": [
        {
          "output_type": "stream",
          "name": "stdout",
          "text": [
            "/content/lenet-5\n"
          ]
        }
      ]
    },
    {
      "cell_type": "code",
      "source": [
        "!mkdir /content/lenet-5/build\n",
        "%cd /content/lenet-5/build\n",
        "!cmake /content/lenet-5/\n",
        "!make"
      ],
      "metadata": {
        "colab": {
          "base_uri": "https://localhost:8080/"
        },
        "id": "gyzckXW-pBte",
        "outputId": "91e2b31a-65fb-4e65-b5db-7d6ee0a535dd"
      },
      "execution_count": 14,
      "outputs": [
        {
          "output_type": "stream",
          "name": "stdout",
          "text": [
            "/content/lenet-5/build\n",
            "\u001b[0mCMake Deprecation Warning at CMakeLists.txt:2 (cmake_minimum_required):\n",
            "  Compatibility with CMake < 3.5 will be removed from a future version of\n",
            "  CMake.\n",
            "\n",
            "  Update the VERSION argument <min> value or use a ...<max> suffix to tell\n",
            "  CMake that the project does not need compatibility with older versions.\n",
            "\n",
            "\u001b[0m\n",
            "-- The C compiler identification is GNU 11.4.0\n",
            "-- The CXX compiler identification is GNU 11.4.0\n",
            "-- Detecting C compiler ABI info\n",
            "-- Detecting C compiler ABI info - done\n",
            "-- Check for working C compiler: /usr/bin/cc - skipped\n",
            "-- Detecting C compile features\n",
            "-- Detecting C compile features - done\n",
            "-- Detecting CXX compiler ABI info\n",
            "-- Detecting CXX compiler ABI info - done\n",
            "-- Check for working CXX compiler: /usr/bin/c++ - skipped\n",
            "-- Detecting CXX compile features\n",
            "-- Detecting CXX compile features - done\n",
            "-- Configuring done (1.4s)\n",
            "-- Generating done (0.0s)\n",
            "-- Build files have been written to: /content/lenet-5/build\n",
            "[  6%] \u001b[32mBuilding CXX object src/CMakeFiles/MiniDNNLib.dir/mnist.cc.o\u001b[0m\n",
            "[ 13%] \u001b[32mBuilding CXX object src/CMakeFiles/MiniDNNLib.dir/network.cc.o\u001b[0m\n",
            "[ 20%] \u001b[32mBuilding CXX object src/CMakeFiles/MiniDNNLib.dir/layer/ave_pooling.cc.o\u001b[0m\n",
            "[ 26%] \u001b[32mBuilding CXX object src/CMakeFiles/MiniDNNLib.dir/layer/conv.cc.o\u001b[0m\n",
            "[ 33%] \u001b[32mBuilding CXX object src/CMakeFiles/MiniDNNLib.dir/layer/fully_connected.cc.o\u001b[0m\n",
            "[ 40%] \u001b[32mBuilding CXX object src/CMakeFiles/MiniDNNLib.dir/layer/max_pooling.cc.o\u001b[0m\n",
            "[ 46%] \u001b[32mBuilding CXX object src/CMakeFiles/MiniDNNLib.dir/layer/relu.cc.o\u001b[0m\n",
            "[ 53%] \u001b[32mBuilding CXX object src/CMakeFiles/MiniDNNLib.dir/layer/sigmoid.cc.o\u001b[0m\n",
            "[ 60%] \u001b[32mBuilding CXX object src/CMakeFiles/MiniDNNLib.dir/layer/softmax.cc.o\u001b[0m\n",
            "[ 66%] \u001b[32mBuilding CXX object src/CMakeFiles/MiniDNNLib.dir/loss/cross_entropy_loss.cc.o\u001b[0m\n",
            "[ 73%] \u001b[32mBuilding CXX object src/CMakeFiles/MiniDNNLib.dir/loss/mse_loss.cc.o\u001b[0m\n",
            "[ 80%] \u001b[32mBuilding CXX object src/CMakeFiles/MiniDNNLib.dir/optimizer/sgd.cc.o\u001b[0m\n",
            "[ 86%] \u001b[32m\u001b[1mLinking CXX static library libMiniDNNLib.a\u001b[0m\n",
            "[ 86%] Built target MiniDNNLib\n",
            "[ 93%] \u001b[32mBuilding CXX object CMakeFiles/exp_newer_lenet.dir/exp_newer_lenet.cc.o\u001b[0m\n",
            "[100%] \u001b[32m\u001b[1mLinking CXX executable exp_newer_lenet\u001b[0m\n",
            "[100%] Built target exp_newer_lenet\n"
          ]
        }
      ]
    },
    {
      "cell_type": "code",
      "source": [
        "!ls"
      ],
      "metadata": {
        "colab": {
          "base_uri": "https://localhost:8080/"
        },
        "id": "kxaEJL2SO8pt",
        "outputId": "60be6b7c-6bb2-41e0-a513-299b11bfb0aa"
      },
      "execution_count": 15,
      "outputs": [
        {
          "output_type": "stream",
          "name": "stdout",
          "text": [
            "CMakeCache.txt\tCMakeFiles  cmake_install.cmake  exp_newer_lenet  Makefile  src\n"
          ]
        }
      ]
    },
    {
      "cell_type": "code",
      "source": [
        "!./exp_newer_lenet"
      ],
      "metadata": {
        "colab": {
          "base_uri": "https://localhost:8080/"
        },
        "id": "QwcGOfwo3rpF",
        "outputId": "0f06c9a6-95fb-4d3b-9509-a9f67d680e24"
      },
      "execution_count": null,
      "outputs": [
        {
          "output_type": "stream",
          "name": "stdout",
          "text": [
            "Newer LeNet-5 implementation\n",
            "mnist train number: 60000\n",
            "mnist test number: 10000\n",
            "0-th batch, loss: 2.30286\n",
            "50-th batch, loss: 2.30282\n",
            "100-th batch, loss: 2.30024\n",
            "150-th batch, loss: 2.29334\n",
            "200-th batch, loss: 1.70971\n",
            "250-th batch, loss: 0.438981\n",
            "300-th batch, loss: 0.294733\n",
            "350-th batch, loss: 0.248192\n",
            "400-th batch, loss: 0.203345\n",
            "450-th batch, loss: 0.155724\n",
            "\n",
            "1-th epoch, test acc: 0.9401\n",
            "\n",
            "0-th batch, loss: 0.280507\n",
            "50-th batch, loss: 0.101838\n",
            "100-th batch, loss: 0.0662025\n"
          ]
        }
      ]
    },
    {
      "cell_type": "code",
      "execution_count": null,
      "metadata": {
        "id": "pXKXyfFVj5Au"
      },
      "outputs": [],
      "source": [
        "# !nvcc exp_newer_lenet.cu -o exp_newer_lenet"
      ]
    },
    {
      "cell_type": "code",
      "source": [
        "# !./exp_newer_lenet"
      ],
      "metadata": {
        "id": "Sv8vpgaokEDe"
      },
      "execution_count": null,
      "outputs": []
    },
    {
      "cell_type": "code",
      "source": [
        "# ! nvprof ./exp_newer_lenet"
      ],
      "metadata": {
        "id": "nTsnCKN6kR6_"
      },
      "execution_count": null,
      "outputs": []
    }
  ]
}