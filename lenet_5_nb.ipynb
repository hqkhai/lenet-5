{
  "nbformat": 4,
  "nbformat_minor": 0,
  "metadata": {
    "colab": {
      "provenance": [],
      "authorship_tag": "ABX9TyOjc3d6yBCg+DnsrtTpZj23",
      "include_colab_link": true
    },
    "kernelspec": {
      "name": "python3",
      "display_name": "Python 3"
    },
    "language_info": {
      "name": "python"
    }
  },
  "cells": [
    {
      "cell_type": "markdown",
      "metadata": {
        "id": "view-in-github",
        "colab_type": "text"
      },
      "source": [
        "<a href=\"https://colab.research.google.com/github/qhungbui7/lenet-5/blob/main/lenet_5_nb.ipynb\" target=\"_parent\"><img src=\"https://colab.research.google.com/assets/colab-badge.svg\" alt=\"Open In Colab\"/></a>"
      ]
    },
    {
      "cell_type": "code",
      "source": [
        "from google.colab import drive\n",
        "drive.mount('/content/drive')"
      ],
      "metadata": {
        "colab": {
          "base_uri": "https://localhost:8080/"
        },
        "id": "VieH6ht6oFdv",
        "outputId": "3f22e702-2ba2-4d04-b22b-4b684cb05169"
      },
      "execution_count": 13,
      "outputs": [
        {
          "output_type": "stream",
          "name": "stdout",
          "text": [
            "Mounted at /content/drive\n"
          ]
        }
      ]
    },
    {
      "cell_type": "code",
      "source": [
        "!git clone https://github.com/qhungbui7/lenet-5.git"
      ],
      "metadata": {
        "colab": {
          "base_uri": "https://localhost:8080/"
        },
        "id": "hWoSIx2KkkT6",
        "outputId": "f9b71341-7905-4ce7-b8ba-852796852ebd"
      },
      "execution_count": null,
      "outputs": [
        {
          "output_type": "stream",
          "name": "stdout",
          "text": [
            "Cloning into 'lenet-5'...\n",
            "remote: Enumerating objects: 1804, done.\u001b[K\n",
            "remote: Counting objects: 100% (1804/1804), done.\u001b[K\n",
            "remote: Compressing objects: 100% (1441/1441), done.\u001b[K\n",
            "remote: Total 1804 (delta 316), reused 1786 (delta 307), pack-reused 0\u001b[K\n",
            "Receiving objects: 100% (1804/1804), 2.43 MiB | 13.09 MiB/s, done.\n",
            "Resolving deltas: 100% (316/316), done.\n"
          ]
        }
      ]
    },
    {
      "cell_type": "code",
      "source": [
        "%cd /content/"
      ],
      "metadata": {
        "colab": {
          "base_uri": "https://localhost:8080/"
        },
        "id": "TLUwJBqnq9XJ",
        "outputId": "882b207b-eb22-466d-c29c-6705b2c63670"
      },
      "execution_count": 33,
      "outputs": [
        {
          "output_type": "stream",
          "name": "stdout",
          "text": [
            "/content\n"
          ]
        }
      ]
    },
    {
      "cell_type": "code",
      "source": [
        "!mkdir ./lenet-5/data/\n",
        "!mkdir ./lenet-5/data/mnist\n"
      ],
      "metadata": {
        "id": "ekaZavp9mLS1",
        "colab": {
          "base_uri": "https://localhost:8080/"
        },
        "outputId": "341eac9a-d5d9-4bae-d389-df128a38b750"
      },
      "execution_count": 34,
      "outputs": [
        {
          "output_type": "stream",
          "name": "stdout",
          "text": [
            "mkdir: cannot create directory ‘./lenet-5/data/’: File exists\n"
          ]
        }
      ]
    },
    {
      "cell_type": "code",
      "source": [
        "!cp /content/drive/MyDrive/mnist/mnist.zip /content/mnist.zip"
      ],
      "metadata": {
        "id": "qxe4kqSWoIue"
      },
      "execution_count": 35,
      "outputs": []
    },
    {
      "cell_type": "code",
      "source": [
        "!unzip mnist.zip -d ./lenet-5/data/mnist"
      ],
      "metadata": {
        "colab": {
          "base_uri": "https://localhost:8080/"
        },
        "id": "SpBUlGJboOew",
        "outputId": "f6a60641-9e29-48b5-ccb4-eaf9784bb00b"
      },
      "execution_count": 36,
      "outputs": [
        {
          "output_type": "stream",
          "name": "stdout",
          "text": [
            "Archive:  mnist.zip\n",
            "  inflating: ./lenet-5/data/mnist/t10k-images-idx3-ubyte/t10k-images-idx3-ubyte  \n",
            "  inflating: ./lenet-5/data/mnist/t10k-images.idx3-ubyte  \n",
            "  inflating: ./lenet-5/data/mnist/t10k-labels-idx1-ubyte/t10k-labels-idx1-ubyte  \n",
            "  inflating: ./lenet-5/data/mnist/t10k-labels.idx1-ubyte  \n",
            "  inflating: ./lenet-5/data/mnist/train-images-idx3-ubyte/train-images-idx3-ubyte  \n",
            "  inflating: ./lenet-5/data/mnist/train-images.idx3-ubyte  \n",
            "  inflating: ./lenet-5/data/mnist/train-labels-idx1-ubyte/train-labels-idx1-ubyte  \n",
            "  inflating: ./lenet-5/data/mnist/train-labels.idx1-ubyte  \n"
          ]
        }
      ]
    },
    {
      "cell_type": "code",
      "source": [
        "%cd ./lenet-5"
      ],
      "metadata": {
        "id": "TLeCBPCikIid",
        "colab": {
          "base_uri": "https://localhost:8080/"
        },
        "outputId": "3c4e9275-ec87-48ec-9971-dc71d033f653"
      },
      "execution_count": 38,
      "outputs": [
        {
          "output_type": "stream",
          "name": "stdout",
          "text": [
            "/content/lenet-5\n"
          ]
        }
      ]
    },
    {
      "cell_type": "code",
      "source": [
        "!ls ./data"
      ],
      "metadata": {
        "colab": {
          "base_uri": "https://localhost:8080/"
        },
        "id": "Q-3P_QmropOR",
        "outputId": "e47902ca-e686-482a-c27a-7377de82da16"
      },
      "execution_count": 39,
      "outputs": [
        {
          "output_type": "stream",
          "name": "stdout",
          "text": [
            "mnist\t\t\tt10k-labels-idx1-ubyte\t train-images.idx3-ubyte\n",
            "t10k-images-idx3-ubyte\tt10k-labels.idx1-ubyte\t train-labels-idx1-ubyte\n",
            "t10k-images.idx3-ubyte\ttrain-images-idx3-ubyte  train-labels.idx1-ubyte\n"
          ]
        }
      ]
    },
    {
      "cell_type": "code",
      "source": [
        "!mkdir ./build\n",
        "!cd ./build\n",
        "!cmake ./\n",
        "!make"
      ],
      "metadata": {
        "colab": {
          "base_uri": "https://localhost:8080/"
        },
        "id": "gyzckXW-pBte",
        "outputId": "a21ea3e3-9254-42c5-fed1-aae3a0973068"
      },
      "execution_count": 28,
      "outputs": [
        {
          "output_type": "stream",
          "name": "stdout",
          "text": [
            "mkdir: cannot create directory ‘./build’: File exists\n",
            "\u001b[0mCMake Deprecation Warning at CMakeLists.txt:1 (cmake_minimum_required):\n",
            "  Compatibility with CMake < 3.5 will be removed from a future version of\n",
            "  CMake.\n",
            "\n",
            "  Update the VERSION argument <min> value or use a ...<max> suffix to tell\n",
            "  CMake that the project does not need compatibility with older versions.\n",
            "\n",
            "\u001b[0m\n",
            "-- The C compiler identification is GNU 11.4.0\n",
            "-- The CXX compiler identification is GNU 11.4.0\n",
            "-- Detecting C compiler ABI info\n",
            "-- Detecting C compiler ABI info - done\n",
            "-- Check for working C compiler: /usr/bin/cc - skipped\n",
            "-- Detecting C compile features\n",
            "-- Detecting C compile features - done\n",
            "-- Detecting CXX compiler ABI info\n",
            "-- Detecting CXX compiler ABI info - done\n",
            "-- Check for working CXX compiler: /usr/bin/c++ - skipped\n",
            "-- Detecting CXX compile features\n",
            "-- Detecting CXX compile features - done\n",
            "-- Configuring done (1.0s)\n",
            "-- Generating done (0.0s)\n",
            "-- Build files have been written to: /content/lenet-5\n",
            "[  6%] \u001b[32mBuilding CXX object src/CMakeFiles/MiniDNNLib.dir/mnist.cc.o\u001b[0m\n",
            "[ 13%] \u001b[32mBuilding CXX object src/CMakeFiles/MiniDNNLib.dir/network.cc.o\u001b[0m\n",
            "[ 20%] \u001b[32mBuilding CXX object src/CMakeFiles/MiniDNNLib.dir/layer/ave_pooling.cc.o\u001b[0m\n",
            "[ 26%] \u001b[32mBuilding CXX object src/CMakeFiles/MiniDNNLib.dir/layer/conv.cc.o\u001b[0m\n",
            "[ 33%] \u001b[32mBuilding CXX object src/CMakeFiles/MiniDNNLib.dir/layer/fully_connected.cc.o\u001b[0m\n",
            "[ 40%] \u001b[32mBuilding CXX object src/CMakeFiles/MiniDNNLib.dir/layer/max_pooling.cc.o\u001b[0m\n",
            "[ 46%] \u001b[32mBuilding CXX object src/CMakeFiles/MiniDNNLib.dir/layer/relu.cc.o\u001b[0m\n",
            "[ 53%] \u001b[32mBuilding CXX object src/CMakeFiles/MiniDNNLib.dir/layer/sigmoid.cc.o\u001b[0m\n",
            "[ 60%] \u001b[32mBuilding CXX object src/CMakeFiles/MiniDNNLib.dir/layer/softmax.cc.o\u001b[0m\n",
            "[ 66%] \u001b[32mBuilding CXX object src/CMakeFiles/MiniDNNLib.dir/loss/cross_entropy_loss.cc.o\u001b[0m\n",
            "[ 73%] \u001b[32mBuilding CXX object src/CMakeFiles/MiniDNNLib.dir/loss/mse_loss.cc.o\u001b[0m\n",
            "[ 80%] \u001b[32mBuilding CXX object src/CMakeFiles/MiniDNNLib.dir/optimizer/sgd.cc.o\u001b[0m\n",
            "[ 86%] \u001b[32m\u001b[1mLinking CXX static library libMiniDNNLib.a\u001b[0m\n",
            "[ 86%] Built target MiniDNNLib\n",
            "[ 93%] \u001b[32mBuilding CXX object CMakeFiles/demo.dir/demo.cc.o\u001b[0m\n",
            "[100%] \u001b[32m\u001b[1mLinking CXX executable demo\u001b[0m\n",
            "[100%] Built target demo\n"
          ]
        }
      ]
    },
    {
      "cell_type": "code",
      "source": [
        "!./demo"
      ],
      "metadata": {
        "colab": {
          "base_uri": "https://localhost:8080/"
        },
        "id": "u1pNr-yQqfxp",
        "outputId": "3228aed6-e126-4b74-f09c-6e93ccc5a36f"
      },
      "execution_count": 40,
      "outputs": [
        {
          "output_type": "stream",
          "name": "stdout",
          "text": [
            "mnist train number: 0\n",
            "mnist test number: 0\n",
            "\n",
            "1-th epoch, test acc: -nan\n",
            "\n",
            "\n",
            "2-th epoch, test acc: -nan\n",
            "\n",
            "\n",
            "3-th epoch, test acc: -nan\n",
            "\n",
            "\n",
            "4-th epoch, test acc: -nan\n",
            "\n",
            "\n",
            "5-th epoch, test acc: -nan\n",
            "\n"
          ]
        }
      ]
    },
    {
      "cell_type": "code",
      "execution_count": null,
      "metadata": {
        "id": "pXKXyfFVj5Au"
      },
      "outputs": [],
      "source": [
        "# !nvcc HW2_P1.cu -o HW2_P1"
      ]
    },
    {
      "cell_type": "code",
      "source": [
        "# !./HW2_P1"
      ],
      "metadata": {
        "id": "Sv8vpgaokEDe"
      },
      "execution_count": null,
      "outputs": []
    },
    {
      "cell_type": "code",
      "source": [
        "# ! nvprof ./HW2_P1"
      ],
      "metadata": {
        "id": "nTsnCKN6kR6_"
      },
      "execution_count": 26,
      "outputs": []
    }
  ]
}