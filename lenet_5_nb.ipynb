{
  "nbformat": 4,
  "nbformat_minor": 0,
  "metadata": {
    "colab": {
      "provenance": [],
      "authorship_tag": "ABX9TyO4nIvlq9rWrLSVlwBfpdxE",
      "include_colab_link": true
    },
    "kernelspec": {
      "name": "python3",
      "display_name": "Python 3"
    },
    "language_info": {
      "name": "python"
    }
  },
  "cells": [
    {
      "cell_type": "markdown",
      "metadata": {
        "id": "view-in-github",
        "colab_type": "text"
      },
      "source": [
        "<a href=\"https://colab.research.google.com/github/qhungbui7/lenet-5/blob/main/lenet_5_nb.ipynb\" target=\"_parent\"><img src=\"https://colab.research.google.com/assets/colab-badge.svg\" alt=\"Open In Colab\"/></a>"
      ]
    },
    {
      "cell_type": "code",
      "source": [
        "!git clone https://github.com/qhungbui7/lenet-5.git"
      ],
      "metadata": {
        "colab": {
          "base_uri": "https://localhost:8080/"
        },
        "id": "hWoSIx2KkkT6",
        "outputId": "f9b71341-7905-4ce7-b8ba-852796852ebd"
      },
      "execution_count": 3,
      "outputs": [
        {
          "output_type": "stream",
          "name": "stdout",
          "text": [
            "Cloning into 'lenet-5'...\n",
            "remote: Enumerating objects: 1804, done.\u001b[K\n",
            "remote: Counting objects: 100% (1804/1804), done.\u001b[K\n",
            "remote: Compressing objects: 100% (1441/1441), done.\u001b[K\n",
            "remote: Total 1804 (delta 316), reused 1786 (delta 307), pack-reused 0\u001b[K\n",
            "Receiving objects: 100% (1804/1804), 2.43 MiB | 13.09 MiB/s, done.\n",
            "Resolving deltas: 100% (316/316), done.\n"
          ]
        }
      ]
    },
    {
      "cell_type": "code",
      "source": [
        "!git clone"
      ],
      "metadata": {
        "id": "TLeCBPCikIid"
      },
      "execution_count": null,
      "outputs": []
    },
    {
      "cell_type": "code",
      "execution_count": null,
      "metadata": {
        "id": "pXKXyfFVj5Au"
      },
      "outputs": [],
      "source": [
        "!nvcc HW2_P1.cu -o HW2_P1"
      ]
    },
    {
      "cell_type": "code",
      "source": [
        "!./HW2_P1"
      ],
      "metadata": {
        "id": "Sv8vpgaokEDe"
      },
      "execution_count": null,
      "outputs": []
    },
    {
      "cell_type": "code",
      "source": [
        "! nvprof ./HW2_P1"
      ],
      "metadata": {
        "id": "nTsnCKN6kR6_"
      },
      "execution_count": null,
      "outputs": []
    }
  ]
}